{
 "cells": [
  {
   "cell_type": "markdown",
   "metadata": {},
   "source": [
    "\n",
    "\n",
    "## PROBLEM SET 2\n",
    "\n",
    "DISHA PATEL"
   ]
  },
  {
   "cell_type": "markdown",
   "metadata": {},
   "source": [
    "### Question 1 \n",
    "Consider the following Python module: \n",
    "a = 0\n",
    "\n",
    "def  b(): \n",
    "\n",
    "global  a \n",
    "\n",
    "a  = c(a) \n",
    " \n",
    "def  c(a): \n",
    "\n",
    "return  a  +  2 \n",
    " \n",
    "After importing the module into the interpreter, you execute: \n",
    " \n",
    " b()\n",
    "\n",
    " b() \n",
    " \n",
    " b() \n",
    " \n",
    " a \n",
    "? \n",
    " \n",
    "What value is displayed when the last expression (a) is evaluated? Explain your \n",
    "answer by indicating what happens in every executed statement."
   ]
  },
  {
   "cell_type": "code",
   "execution_count": 2,
   "metadata": {},
   "outputs": [],
   "source": [
    "a = 0\n",
    "\n",
    "def b():\n",
    "    global a\n",
    "    a = c(a)\n",
    "\n",
    "def c(a):\n",
    "    return a + 2"
   ]
  },
  {
   "cell_type": "code",
   "execution_count": 3,
   "metadata": {},
   "outputs": [
    {
     "data": {
      "text/plain": [
       "6"
      ]
     },
     "execution_count": 3,
     "metadata": {},
     "output_type": "execute_result"
    }
   ],
   "source": [
    "b()\n",
    "b()\n",
    "b()\n",
    "a"
   ]
  },
  {
   "cell_type": "markdown",
   "metadata": {},
   "source": [
    "EXPLAINATION: \n",
    "\n",
    "1. **Initial Setup:** `a` is set to `0` in the global scope.\n",
    "\n",
    "2. **First Call to `b()`:** `b()` calls `c(0)`, which returns `2`; `a` becomes `2`.\n",
    "\n",
    "3. **Second Call to `b()`:** `b()` calls `c(2)`, which returns `4`; `a` becomes `4`.\n",
    "\n",
    "4. **Third Call to `b()`:** `b()` calls `c(4)`, which returns `6`; `a` becomes `6`.\n",
    "\n",
    "5. **Final Value of `a`:** Evaluating `a` gives `6`."
   ]
  },
  {
   "cell_type": "markdown",
   "metadata": {},
   "source": [
    "### Question 2 \n",
    "Function fileLength(), given to you, takes the name of a file as input and returns \n",
    "the length of the file: \n",
    " \n",
    "fileLength('midterm.py') \n",
    "\n",
    "284 \n",
    "\n",
    "fileLength('idterm.py') \n",
    "\n",
    "Traceback  (most  recent  call  last): \n",
    "\n",
    "File  \"<pyshell#34>\",  line  1,  in  <module> \n",
    "\n",
    "fileLength('idterm.py') \n",
    "\n",
    "File  \"/Users/me/midterm.py\",  line  3,  in  fileLength \n",
    "\n",
    "infile  =  open(filename) \n",
    "\n",
    "FileNotFoundError:  [Errno  2]  No  such  file  or  directory: \n",
    "\n",
    "'idterm.py' \n",
    " \n",
    "As shown above, if the file cannot be found by the interpreter or if it cannot be read \n",
    "as a text file, an exception will be raised. Modify function fileLength() so that a \n",
    "friendly message is printed instead: \n",
    " \n",
    "fileLength('midterm.py') \n",
    "\n",
    "358 \n",
    "\n",
    "fileLength('idterm.py') \n",
    "\n",
    "File  idterm.py  not  found. "
   ]
  },
  {
   "cell_type": "markdown",
   "metadata": {},
   "source": [
    "Modified Function"
   ]
  },
  {
   "cell_type": "code",
   "execution_count": 7,
   "metadata": {},
   "outputs": [],
   "source": [
    "def fileLength(filename):\n",
    "    try:\n",
    "        with open(filename, 'r') as infile:\n",
    "            contents = infile.read()\n",
    "            return len(contents)\n",
    "    except FileNotFoundError:\n",
    "        print(f'File {filename} not found.')\n"
   ]
  },
  {
   "cell_type": "code",
   "execution_count": 5,
   "metadata": {},
   "outputs": [
    {
     "data": {
      "text/plain": [
       "123"
      ]
     },
     "execution_count": 5,
     "metadata": {},
     "output_type": "execute_result"
    }
   ],
   "source": [
    "fileLength('Filelength.txt') "
   ]
  },
  {
   "cell_type": "code",
   "execution_count": 8,
   "metadata": {},
   "outputs": [
    {
     "name": "stdout",
     "output_type": "stream",
     "text": [
      "File midterm.py not found.\n"
     ]
    }
   ],
   "source": [
    "fileLength('midterm.py') "
   ]
  },
  {
   "cell_type": "markdown",
   "metadata": {},
   "source": [
    "### Question 3\n",
    "Write a class named Marsupial that can be used as shown below: \n",
    " \n",
    "m  =  Marsupial() \n",
    "\n",
    "m.put_in_pouch('doll') \n",
    "\n",
    "m.put_in_pouch('firetruck') \n",
    "\n",
    "m.put_in_pouch('kitten') \n",
    "\n",
    "m.pouch_contents()  \n",
    "\n",
    "['doll',  'firetruck',  'kitten'] \n",
    "\n",
    "Now write a class named Kangaroo as a subclass of Marsupial that inherits all the \n",
    "attributes of Marsupial and also: \n",
    "a. extends the Marsupial  __init__ constructor to take, as input, the \n",
    "coordinates x and y of the Kangaroo object, \n",
    "\n",
    "b. supports method jump that takes number values dx and dy as input and \n",
    "moves the kangaroo by dx units along the x-axis and by dy units along the y- \n",
    "axis, and \n",
    "\n",
    "c. overloads the __str__ operator so it behaves as shown below. \n",
    " \n"
   ]
  },
  {
   "cell_type": "code",
   "execution_count": 9,
   "metadata": {},
   "outputs": [],
   "source": [
    "class Marsupial:\n",
    "    def __init__(self):\n",
    "        self.pouch = []  #an empty list to hold items\n",
    "\n",
    "    def put_in_pouch(self, item):\n",
    "        self.pouch.append(item)  # Adding an item to the pouch\n",
    "\n",
    "    def pouch_contents(self):\n",
    "        return self.pouch  # Returning  the list of items in the pouch\n",
    "\n",
    "class Kangaroo(Marsupial):\n",
    "    def __init__(self, x, y):\n",
    "        super().__init__()  # Call the parent constructor to initialize the pouch\n",
    "        self.x = x  # Initialize x-coordinate\n",
    "        self.y = y  # Initialize y-coordinate\n",
    "\n",
    "    def jump(self, dx, dy):\n",
    "        self.x += dx  # Update x-coordinate by dx\n",
    "        self.y += dy  # Update y-coordinate by dy\n",
    "\n",
    "    def __str__(self):\n",
    "        return f\"I am a Kangaroo located at coordinates ({self.x},{self.y})\"\n"
   ]
  },
  {
   "cell_type": "code",
   "execution_count": 10,
   "metadata": {},
   "outputs": [
    {
     "name": "stdout",
     "output_type": "stream",
     "text": [
      "I am a Kangaroo located at coordinates (0,0)\n",
      "['doll', 'firetruck', 'kitten']\n",
      "I am a Kangaroo located at coordinates (3,0)\n"
     ]
    }
   ],
   "source": [
    "k = Kangaroo(0, 0)\n",
    "print(k)  \n",
    "\n",
    "k.put_in_pouch('doll')\n",
    "k.put_in_pouch('firetruck')\n",
    "k.put_in_pouch('kitten')\n",
    "print(k.pouch_contents()) \n",
    "\n",
    "k.jump(1, 0)\n",
    "k.jump(1, 0)\n",
    "k.jump(1, 0)\n",
    "print(k)"
   ]
  },
  {
   "cell_type": "markdown",
   "metadata": {},
   "source": [
    "### question 4"
   ]
  },
  {
   "cell_type": "markdown",
   "metadata": {},
   "source": [
    "Write function collatz() that takes a positive integer x as input and prints the \n",
    "Collatz sequence starting at x. A Collatz sequence is obtained by repeatedly applying \n",
    "this rule to the previous number x in the sequence: \n",
    " \n",
    "x = {  𝑥/2 𝑖𝑓 𝑥 𝑖𝑠 𝑒𝑣𝑒𝑛 3𝑥 \n",
    "+ 1 𝑖𝑓 𝑥 𝑖𝑠 𝑜𝑑𝑑 \n",
    " \n",
    "Your function should stop when the sequence gets to number 1. Your \n",
    "implementation must be recursive, without any loops."
   ]
  },
  {
   "cell_type": "code",
   "execution_count": 11,
   "metadata": {},
   "outputs": [],
   "source": [
    "def collatz(x):\n",
    "    print(x)  \n",
    "    if x == 1:  #if x is 1, stop the recursion\n",
    "        return\n",
    "    elif x % 2 == 0:  # If x is even, divide it by 2\n",
    "        collatz(x // 2)\n",
    "    else:  # If x is odd, apply 3x + 1\n",
    "        collatz(3 * x + 1)\n"
   ]
  },
  {
   "cell_type": "code",
   "execution_count": 12,
   "metadata": {},
   "outputs": [
    {
     "name": "stdout",
     "output_type": "stream",
     "text": [
      "1\n"
     ]
    }
   ],
   "source": [
    "collatz(1)"
   ]
  },
  {
   "cell_type": "code",
   "execution_count": 13,
   "metadata": {},
   "outputs": [
    {
     "name": "stdout",
     "output_type": "stream",
     "text": [
      "10\n",
      "5\n",
      "16\n",
      "8\n",
      "4\n",
      "2\n",
      "1\n"
     ]
    }
   ],
   "source": [
    "collatz(10)"
   ]
  },
  {
   "cell_type": "markdown",
   "metadata": {},
   "source": [
    "### Question 5"
   ]
  },
  {
   "cell_type": "markdown",
   "metadata": {},
   "source": [
    "Write a recursive method binary() that takes a non-negative \n",
    "integer n and prints the binary representation of integer n. "
   ]
  },
  {
   "cell_type": "code",
   "execution_count": 14,
   "metadata": {},
   "outputs": [],
   "source": [
    "def binary(n):\n",
    "    if n < 2:  # if n is 0 or 1, just print n\n",
    "        print(n, end='')\n",
    "    else:\n",
    "        binary(n // 2)  # Recursive call with n divided by 2\n",
    "        print(n % 2, end='')  # Print the remainder when n is divided by 2\n"
   ]
  },
  {
   "cell_type": "code",
   "execution_count": 15,
   "metadata": {},
   "outputs": [
    {
     "name": "stdout",
     "output_type": "stream",
     "text": [
      "0"
     ]
    }
   ],
   "source": [
    "binary(0)  "
   ]
  },
  {
   "cell_type": "code",
   "execution_count": 16,
   "metadata": {},
   "outputs": [
    {
     "name": "stdout",
     "output_type": "stream",
     "text": [
      "1"
     ]
    }
   ],
   "source": [
    "binary(1)  "
   ]
  },
  {
   "cell_type": "code",
   "execution_count": 17,
   "metadata": {},
   "outputs": [
    {
     "name": "stdout",
     "output_type": "stream",
     "text": [
      "11"
     ]
    }
   ],
   "source": [
    "binary(3)  "
   ]
  },
  {
   "cell_type": "code",
   "execution_count": 18,
   "metadata": {},
   "outputs": [
    {
     "name": "stdout",
     "output_type": "stream",
     "text": [
      "1001"
     ]
    }
   ],
   "source": [
    "binary(9)  "
   ]
  },
  {
   "cell_type": "markdown",
   "metadata": {},
   "source": [
    "### Question 6\n"
   ]
  },
  {
   "cell_type": "markdown",
   "metadata": {},
   "source": [
    "Implement a class named HeadingParser that can be used to parse an HTML \n",
    "document, and retrieve and print all the headings in the document. You should \n",
    "implement your class as a subclass of HTMLParser, defined in Standard Library \n",
    "module html.parser. When fed a string containing HTML code, your class should \n",
    "print the headings, one per line and in the order in which they appear in the \n",
    "document. Each heading should be indented as follows: an h1 heading should have indentation 0, and h2 heading should have indentation 1, etc. Test your \n",
    "implementation using w3c.html."
   ]
  },
  {
   "cell_type": "code",
   "execution_count": 19,
   "metadata": {},
   "outputs": [
    {
     "name": "stdout",
     "output_type": "stream",
     "text": [
      "W3C Mission\n",
      " Principles\n"
     ]
    }
   ],
   "source": [
    "from html.parser import HTMLParser\n",
    "\n",
    "class HeadingParser(HTMLParser):\n",
    "    def __init__(self):\n",
    "        super().__init__()\n",
    "        self.in_heading = False\n",
    "        self.current_level = 0\n",
    "\n",
    "    def handle_starttag(self, tag, attrs):\n",
    "        if tag in ['h1', 'h2', 'h3', 'h4', 'h5', 'h6']:\n",
    "            self.in_heading = True\n",
    "            self.current_level = int(tag[1])\n",
    "\n",
    "    def handle_endtag(self, tag):\n",
    "        if tag in ['h1', 'h2', 'h3', 'h4', 'h5', 'h6']:\n",
    "            self.in_heading = False\n",
    "\n",
    "    def handle_data(self, data):\n",
    "        if self.in_heading:\n",
    "            print(\" \" * (self.current_level - 1) + data.strip())\n",
    "\n",
    "filepath = r\"E:\\georgian\\BDAT\\2 2 data analytics programming\\problemset 2\\w3c.txt\"\n",
    "with open(filepath, 'r') as infile:\n",
    "    content = infile.read()\n",
    "\n",
    "# Parse the content\n",
    "hp = HeadingParser()\n",
    "hp.feed(content)\n"
   ]
  },
  {
   "cell_type": "markdown",
   "metadata": {},
   "source": [
    "### Question 7\n",
    "Implement recursive function webdir() that takes as input: a URL (as a string) and \n",
    "non-negative integers depth and indent. Your function should visit every web \n",
    "page reachable from the starting URL web page in depth clicks or less, and print \n",
    "each web page's URL. As shown below, indentation, specified by indent,  should \n",
    "be used to indicate the depth of a URL."
   ]
  },
  {
   "cell_type": "code",
   "execution_count": 21,
   "metadata": {},
   "outputs": [],
   "source": [
    "import requests\n",
    "from bs4 import BeautifulSoup\n",
    "from urllib.parse import urljoin\n",
    "\n",
    "def webdir(url, depth, indent):\n",
    "    if depth < 0:\n",
    "        return\n",
    "    \n",
    "    print(' ' * indent + url)\n",
    "    \n",
    "    try:\n",
    "        response = requests.get(url)\n",
    "        soup = BeautifulSoup(response.text, 'html.parser')\n",
    "        links = soup.find_all('a', href=True)\n",
    "        \n",
    "        for link in links:\n",
    "            new_url = urljoin(url, link['href'])\n",
    "            webdir(new_url, depth - 1, indent + 2)\n",
    "\n",
    "    except requests.exceptions.RequestException as e:\n",
    "        print(f\"Error accessing {url}: {e}\")\n",
    "        \n",
    "        "
   ]
  },
  {
   "cell_type": "code",
   "execution_count": 22,
   "metadata": {},
   "outputs": [
    {
     "name": "stdout",
     "output_type": "stream",
     "text": [
      "http://reed.cs.depaul.edu/lperkovic/csc242/test1.html\n",
      "http://reed.cs.depaul.edu/lperkovic/csc242/test2.html\n"
     ]
    }
   ],
   "source": [
    "webdir('http://reed.cs.depaul.edu/lperkovic/csc242/test1.html', 2, 0)\n",
    "webdir('http://reed.cs.depaul.edu/lperkovic/csc242/test2.html', 2, 0)"
   ]
  },
  {
   "cell_type": "markdown",
   "metadata": {},
   "source": [
    "### question 8"
   ]
  },
  {
   "cell_type": "markdown",
   "metadata": {},
   "source": [
    "Write SQL queries on the below database table that return: \n",
    "a) All the temperature data. \n",
    "\n",
    "b) All the cities, but without repetition. \n",
    "\n",
    "c) All the records for India. \n",
    "\n",
    "d) All the Fall records. \n",
    "\n",
    "e) The city, country, and season for which the average rainfall is between 200 \n",
    "and 400 millimeters. \n",
    "\n",
    "f) The city and country for which the average Fall temperature is above 20 \n",
    "degrees, in increasing temperature order. \n",
    "\n",
    "g) The total annual rainfall for Cairo. \n",
    "\n",
    "h) The total rainfall for each season. "
   ]
  },
  {
   "cell_type": "code",
   "execution_count": 23,
   "metadata": {},
   "outputs": [],
   "source": [
    "import sqlite3\n",
    "\n",
    "conn = sqlite3.connect('weather_data.db')\n",
    "cursor = conn.cursor()\n",
    "\n",
    "# Create the table\n",
    "cursor.execute('''\n",
    "CREATE TABLE IF NOT EXISTS weather (\n",
    "    City TEXT,\n",
    "    Country TEXT,\n",
    "    Season TEXT,\n",
    "    Temperature REAL,\n",
    "    Rainfall REAL\n",
    ")\n",
    "''')\n",
    "\n",
    "# Insert data\n",
    "data = [\n",
    "    ('Mumbai', 'India', 'Winter', 24.8, 5.9),\n",
    "    ('Mumbai', 'India', 'Spring', 28.4, 16.2),\n",
    "    ('Mumbai', 'India', 'Summer', 27.9, 1549.4),\n",
    "    ('Mumbai', 'India', 'Fall', 27.6, 346.0),\n",
    "    ('London', 'United Kingdom', 'Winter', 4.2, 207.7),\n",
    "    ('London', 'United Kingdom', 'Spring', 8.3, 169.6),\n",
    "    ('London', 'United Kingdom', 'Summer', 15.7, 157.0),\n",
    "    ('London', 'United Kingdom', 'Fall', 10.4, 218.5),\n",
    "    ('Cairo', 'Egypt', 'Winter', 13.6, 16.5),\n",
    "    ('Cairo', 'Egypt', 'Spring', 20.7, 6.5),\n",
    "    ('Cairo', 'Egypt', 'Summer', 27.7, 0.1),\n",
    "    ('Cairo', 'Egypt', 'Fall', 22.2, 4.5)\n",
    "]\n",
    "\n",
    "\n",
    "cursor.executemany(\"INSERT INTO weather (City, Country, Season, Temperature, Rainfall) VALUES (?, ?, ?, ?, ?)\", data)\n",
    "conn.commit()\n"
   ]
  },
  {
   "cell_type": "markdown",
   "metadata": {},
   "source": [
    " a) All the temperature data."
   ]
  },
  {
   "cell_type": "code",
   "execution_count": 24,
   "metadata": {},
   "outputs": [
    {
     "name": "stdout",
     "output_type": "stream",
     "text": [
      "All temperature data:\n",
      "     Temperature\n",
      "0          24.8\n",
      "1          28.4\n",
      "2          27.9\n",
      "3          27.6\n",
      "4           4.2\n",
      "5           8.3\n",
      "6          15.7\n",
      "7          10.4\n",
      "8          13.6\n",
      "9          20.7\n",
      "10         27.7\n",
      "11         22.2\n"
     ]
    }
   ],
   "source": [
    "query_a = \"SELECT Temperature FROM weather;\"\n",
    "temperature_data = pd.read_sql_query(query_a, conn)\n",
    "print(\"All temperature data:\\n\", temperature_data)\n"
   ]
  },
  {
   "cell_type": "markdown",
   "metadata": {},
   "source": [
    "b) All the cities, but without repetition."
   ]
  },
  {
   "cell_type": "code",
   "execution_count": 25,
   "metadata": {},
   "outputs": [
    {
     "name": "stdout",
     "output_type": "stream",
     "text": [
      "Distinct cities:\n",
      "      City\n",
      "0  Mumbai\n",
      "1  London\n",
      "2   Cairo\n"
     ]
    }
   ],
   "source": [
    "query_b = \"SELECT DISTINCT City FROM weather;\"\n",
    "distinct_cities = pd.read_sql_query(query_b, conn)\n",
    "print(\"Distinct cities:\\n\", distinct_cities)"
   ]
  },
  {
   "cell_type": "markdown",
   "metadata": {},
   "source": [
    "c) All the records for India."
   ]
  },
  {
   "cell_type": "code",
   "execution_count": 26,
   "metadata": {},
   "outputs": [
    {
     "name": "stdout",
     "output_type": "stream",
     "text": [
      "Records for India:\n",
      "      City Country  Season  Temperature  Rainfall\n",
      "0  Mumbai   India  Winter         24.8       5.9\n",
      "1  Mumbai   India  Spring         28.4      16.2\n",
      "2  Mumbai   India  Summer         27.9    1549.4\n",
      "3  Mumbai   India    Fall         27.6     346.0\n"
     ]
    }
   ],
   "source": [
    "query_c = \"SELECT * FROM weather WHERE Country = 'India';\"\n",
    "records_india = pd.read_sql_query(query_c, conn)\n",
    "print(\"Records for India:\\n\", records_india)"
   ]
  },
  {
   "cell_type": "markdown",
   "metadata": {},
   "source": [
    "d) All the Fall records.\n"
   ]
  },
  {
   "cell_type": "code",
   "execution_count": 27,
   "metadata": {},
   "outputs": [
    {
     "name": "stdout",
     "output_type": "stream",
     "text": [
      "All Fall records:\n",
      "      City         Country Season  Temperature  Rainfall\n",
      "0  Mumbai           India   Fall         27.6     346.0\n",
      "1  London  United Kingdom   Fall         10.4     218.5\n",
      "2   Cairo           Egypt   Fall         22.2       4.5\n"
     ]
    }
   ],
   "source": [
    "query_d = \"SELECT * FROM weather WHERE Season = 'Fall';\"\n",
    "fall_records = pd.read_sql_query(query_d, conn)\n",
    "print(\"All Fall records:\\n\", fall_records)"
   ]
  },
  {
   "cell_type": "markdown",
   "metadata": {},
   "source": [
    "e) The city, country, and season for which the average rainfall is between 200 and 400 millimeters.\n"
   ]
  },
  {
   "cell_type": "code",
   "execution_count": 28,
   "metadata": {},
   "outputs": [
    {
     "name": "stdout",
     "output_type": "stream",
     "text": [
      "Average rainfall between 200 and 400 mm:\n",
      "      City         Country  Season\n",
      "0  Mumbai           India    Fall\n",
      "1  London  United Kingdom  Winter\n",
      "2  London  United Kingdom    Fall\n"
     ]
    }
   ],
   "source": [
    "query_e = \"SELECT City, Country, Season FROM weather WHERE Rainfall BETWEEN 200 AND 400;\"\n",
    "rainfall_between_200_400 = pd.read_sql_query(query_e, conn)\n",
    "print(\"Average rainfall between 200 and 400 mm:\\n\", rainfall_between_200_400)"
   ]
  },
  {
   "cell_type": "markdown",
   "metadata": {},
   "source": [
    "f) The city and country for which the average Fall temperature is above 20 degrees, in increasing temperature order.\n"
   ]
  },
  {
   "cell_type": "code",
   "execution_count": 29,
   "metadata": {},
   "outputs": [
    {
     "name": "stdout",
     "output_type": "stream",
     "text": [
      "Fall temperature above 20 degrees:\n",
      "      City Country\n",
      "0   Cairo   Egypt\n",
      "1  Mumbai   India\n"
     ]
    }
   ],
   "source": [
    "query_f = \"SELECT City, Country FROM weather WHERE Season = 'Fall' AND Temperature > 20 ORDER BY Temperature ASC;\"\n",
    "fall_temp_above_20 = pd.read_sql_query(query_f, conn)\n",
    "print(\"Fall temperature above 20 degrees:\\n\", fall_temp_above_20)"
   ]
  },
  {
   "cell_type": "markdown",
   "metadata": {},
   "source": [
    "\n",
    "g) The total annual rainfall for Cairo."
   ]
  },
  {
   "cell_type": "code",
   "execution_count": 30,
   "metadata": {},
   "outputs": [
    {
     "name": "stdout",
     "output_type": "stream",
     "text": [
      "Total annual rainfall for Cairo:\n",
      "    Total_Annual_Rainfall\n",
      "0                   27.6\n"
     ]
    }
   ],
   "source": [
    "query_g = \"SELECT SUM(Rainfall) AS Total_Annual_Rainfall FROM weather WHERE City = 'Cairo';\"\n",
    "total_rainfall_cairo = pd.read_sql_query(query_g, conn)\n",
    "print(\"Total annual rainfall for Cairo:\\n\", total_rainfall_cairo)"
   ]
  },
  {
   "cell_type": "markdown",
   "metadata": {},
   "source": [
    "\n",
    "h) The total rainfall for each season."
   ]
  },
  {
   "cell_type": "code",
   "execution_count": 31,
   "metadata": {},
   "outputs": [
    {
     "name": "stdout",
     "output_type": "stream",
     "text": [
      "Total rainfall for each season:\n",
      "    Season  Total_Rainfall\n",
      "0    Fall           569.0\n",
      "1  Spring           192.3\n",
      "2  Summer          1706.5\n",
      "3  Winter           230.1\n"
     ]
    }
   ],
   "source": [
    "query_h = \"SELECT Season, SUM(Rainfall) AS Total_Rainfall FROM weather GROUP BY Season;\"\n",
    "total_rainfall_each_season = pd.read_sql_query(query_h, conn)\n",
    "print(\"Total rainfall for each season:\\n\", total_rainfall_each_season)"
   ]
  },
  {
   "cell_type": "markdown",
   "metadata": {},
   "source": [
    "### Question 9"
   ]
  },
  {
   "cell_type": "markdown",
   "metadata": {},
   "source": [
    "Suppose list words is defined as follows: \n",
    "words  =  ['The',  'quick',  'brown',  'fox',  'jumps',  'over', \n",
    "'the',  'lazy',  'dog'] \n",
    "\n",
    "Write list comprehension expressions that use list words and generate the following \n",
    "lists: \n",
    "\n",
    "a) ['THE',  'QUICK',  'BROWN',  'FOX',  'JUMPS',  'OVER',  'THE', \n",
    "'LAZY',  'DOG'] \n",
    "\n",
    "b) ['the',  'quick',  'brown',  'fox',  'jumps',  'over',  'the', \n",
    "'lazy',  'dog'] \n",
    "\n",
    "c) [3,  5,  5,  3,  5,  4,  3,  4,  3] (the list of lengths of words in list \n",
    "words). \n",
    "\n",
    "d) [['THE',  'the',  3],  ['QUICK',  'quick',  5],  ['BROWN', \n",
    "'brown',  5],  ['FOX',  'fox',  3],  ['JUMPS',  'jumps',  5], \n",
    "['OVER',  'over',  4],  ['THE',  'the',  3],  ['LAZY',  'lazy', \n",
    "4],  ['DOG',  'dog',  3]] (the list containing a list for every word of list \n",
    "words, where each list contains the word in uppercase and lowercase and the \n",
    "length of the word.) \n",
    "\n",
    "e) ['The',  'quick',  'brown',  'fox',  'jumps',  'over',  'the', \n",
    "'lazy',  'dog'] (the list of words in list words containing 4 or more \n",
    "characters.) \n"
   ]
  },
  {
   "cell_type": "code",
   "execution_count": 37,
   "metadata": {},
   "outputs": [],
   "source": [
    "words = ['The', 'quick', 'brown', 'fox', 'jumps', 'over', 'the', 'lazy', 'dog']\n"
   ]
  },
  {
   "cell_type": "markdown",
   "metadata": {},
   "source": [
    "a) Uppercase all words"
   ]
  },
  {
   "cell_type": "code",
   "execution_count": 38,
   "metadata": {},
   "outputs": [
    {
     "name": "stdout",
     "output_type": "stream",
     "text": [
      "['THE', 'QUICK', 'BROWN', 'FOX', 'JUMPS', 'OVER', 'THE', 'LAZY', 'DOG']\n"
     ]
    }
   ],
   "source": [
    "a = [word.upper() for word in words]\n",
    "print(a)"
   ]
  },
  {
   "cell_type": "markdown",
   "metadata": {},
   "source": [
    "b) Lowercase all words"
   ]
  },
  {
   "cell_type": "code",
   "execution_count": 33,
   "metadata": {},
   "outputs": [
    {
     "name": "stdout",
     "output_type": "stream",
     "text": [
      "['the', 'quick', 'brown', 'fox', 'jumps', 'over', 'the', 'lazy', 'dog']\n"
     ]
    }
   ],
   "source": [
    "b = [word.lower() for word in words]\n",
    "print(b)"
   ]
  },
  {
   "cell_type": "markdown",
   "metadata": {},
   "source": [
    "c) List of lengths of each word"
   ]
  },
  {
   "cell_type": "code",
   "execution_count": 34,
   "metadata": {},
   "outputs": [
    {
     "name": "stdout",
     "output_type": "stream",
     "text": [
      "[3, 5, 5, 3, 5, 4, 3, 4, 3]\n"
     ]
    }
   ],
   "source": [
    "c = [len(word) for word in words]\n",
    "print(c)"
   ]
  },
  {
   "cell_type": "markdown",
   "metadata": {},
   "source": [
    " d) List of [uppercase, lowercase, length] for each word"
   ]
  },
  {
   "cell_type": "code",
   "execution_count": 35,
   "metadata": {},
   "outputs": [
    {
     "name": "stdout",
     "output_type": "stream",
     "text": [
      "[['THE', 'the', 3], ['QUICK', 'quick', 5], ['BROWN', 'brown', 5], ['FOX', 'fox', 3], ['JUMPS', 'jumps', 5], ['OVER', 'over', 4], ['THE', 'the', 3], ['LAZY', 'lazy', 4], ['DOG', 'dog', 3]]\n"
     ]
    }
   ],
   "source": [
    "d = [[word.upper(), word.lower(), len(word)] for word in words]\n",
    "print(d)"
   ]
  },
  {
   "cell_type": "markdown",
   "metadata": {},
   "source": [
    " e) List of words with 4 or more characters"
   ]
  },
  {
   "cell_type": "code",
   "execution_count": 36,
   "metadata": {},
   "outputs": [
    {
     "name": "stdout",
     "output_type": "stream",
     "text": [
      "['quick', 'brown', 'jumps', 'over', 'lazy']\n"
     ]
    }
   ],
   "source": [
    "e = [word for word in words if len(word) >= 4]\n",
    "print(e)"
   ]
  }
 ],
 "metadata": {
  "kernelspec": {
   "display_name": "Python 3",
   "language": "python",
   "name": "python3"
  },
  "language_info": {
   "codemirror_mode": {
    "name": "ipython",
    "version": 3
   },
   "file_extension": ".py",
   "mimetype": "text/x-python",
   "name": "python",
   "nbconvert_exporter": "python",
   "pygments_lexer": "ipython3",
   "version": "3.9.5"
  }
 },
 "nbformat": 4,
 "nbformat_minor": 2
}
